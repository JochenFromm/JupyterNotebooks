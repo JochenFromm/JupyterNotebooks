{
 "cells": [
  {
   "cell_type": "markdown",
   "id": "d0f031ad",
   "metadata": {},
   "source": [
    "To run the Jupyter notebook install sckit-lean in a conda environment\n",
    "```\n",
    "conda create -n sklearn-env -c conda-forge scikit-learn\n",
    "conda activate sklearn-env\n",
    "```\n",
    "and install Shap ( https://github.com/slundberg/shap ) and a Jupyter kernel\n",
    "```\n",
    "pip install shap\n",
    "pip install jupyter\n",
    "python -m ipykernel install --sys-prefix --name=sklearn-env\n",
    "```\n"
   ]
  },
  {
   "cell_type": "code",
   "execution_count": 1,
   "id": "437fa5d1",
   "metadata": {},
   "outputs": [],
   "source": [
    "import pandas as pd\n",
    "import shap\n",
    "import sklearn\n",
    "import re\n",
    "from sklearn.neural_network import MLPClassifier"
   ]
  },
  {
   "cell_type": "code",
   "execution_count": 2,
   "id": "f3e60f56",
   "metadata": {},
   "outputs": [
    {
     "data": {
      "text/html": [
       "<div>\n",
       "<style scoped>\n",
       "    .dataframe tbody tr th:only-of-type {\n",
       "        vertical-align: middle;\n",
       "    }\n",
       "\n",
       "    .dataframe tbody tr th {\n",
       "        vertical-align: top;\n",
       "    }\n",
       "\n",
       "    .dataframe thead th {\n",
       "        text-align: right;\n",
       "    }\n",
       "</style>\n",
       "<table border=\"1\" class=\"dataframe\">\n",
       "  <thead>\n",
       "    <tr style=\"text-align: right;\">\n",
       "      <th></th>\n",
       "      <th>Hostility Environment</th>\n",
       "      <th>Economic Crisis</th>\n",
       "      <th>Political Crisis</th>\n",
       "      <th>Political Violence</th>\n",
       "      <th>Humiliation Score</th>\n",
       "      <th>Stability Democratic Institutions</th>\n",
       "      <th>Fascism</th>\n",
       "      <th>Country</th>\n",
       "      <th>Date</th>\n",
       "      <th>Comment</th>\n",
       "    </tr>\n",
       "  </thead>\n",
       "  <tbody>\n",
       "    <tr>\n",
       "      <th>0</th>\n",
       "      <td>0.6</td>\n",
       "      <td>1.0</td>\n",
       "      <td>1.0</td>\n",
       "      <td>1.0</td>\n",
       "      <td>1.0</td>\n",
       "      <td>-1.0</td>\n",
       "      <td>2.0</td>\n",
       "      <td>Germany</td>\n",
       "      <td>After WWI (\"humiliating defeat\")</td>\n",
       "      <td>Nazism / Treaty of Versailles</td>\n",
       "    </tr>\n",
       "    <tr>\n",
       "      <th>1</th>\n",
       "      <td>0.5</td>\n",
       "      <td>1.0</td>\n",
       "      <td>-1.0</td>\n",
       "      <td>1.0</td>\n",
       "      <td>1.0</td>\n",
       "      <td>-1.0</td>\n",
       "      <td>2.0</td>\n",
       "      <td>Italy</td>\n",
       "      <td>After WWI (\"mutilated victory\")</td>\n",
       "      <td>Fascism / Treaty of Versailles</td>\n",
       "    </tr>\n",
       "    <tr>\n",
       "      <th>2</th>\n",
       "      <td>0.6</td>\n",
       "      <td>1.0</td>\n",
       "      <td>1.0</td>\n",
       "      <td>0.0</td>\n",
       "      <td>1.0</td>\n",
       "      <td>-1.0</td>\n",
       "      <td>2.0</td>\n",
       "      <td>Austria-Hungary</td>\n",
       "      <td>After WWI (\"humiliating defeat\")</td>\n",
       "      <td>Nazism / Treaty of Versailles</td>\n",
       "    </tr>\n",
       "    <tr>\n",
       "      <th>3</th>\n",
       "      <td>-1.0</td>\n",
       "      <td>1.0</td>\n",
       "      <td>-1.0</td>\n",
       "      <td>-1.0</td>\n",
       "      <td>-1.0</td>\n",
       "      <td>1.0</td>\n",
       "      <td>0.0</td>\n",
       "      <td>France</td>\n",
       "      <td>After WWI</td>\n",
       "      <td>NaN</td>\n",
       "    </tr>\n",
       "    <tr>\n",
       "      <th>4</th>\n",
       "      <td>0.3</td>\n",
       "      <td>1.0</td>\n",
       "      <td>-1.0</td>\n",
       "      <td>-1.0</td>\n",
       "      <td>0.5</td>\n",
       "      <td>0.5</td>\n",
       "      <td>1.0</td>\n",
       "      <td>Spain</td>\n",
       "      <td>After WWI</td>\n",
       "      <td>Francoism / Authoritarianism / Loss of Spanish...</td>\n",
       "    </tr>\n",
       "  </tbody>\n",
       "</table>\n",
       "</div>"
      ],
      "text/plain": [
       "   Hostility Environment  Economic Crisis  Political Crisis  \\\n",
       "0                    0.6              1.0               1.0   \n",
       "1                    0.5              1.0              -1.0   \n",
       "2                    0.6              1.0               1.0   \n",
       "3                   -1.0              1.0              -1.0   \n",
       "4                    0.3              1.0              -1.0   \n",
       "\n",
       "   Political Violence  Humiliation Score  Stability Democratic Institutions  \\\n",
       "0                 1.0                1.0                               -1.0   \n",
       "1                 1.0                1.0                               -1.0   \n",
       "2                 0.0                1.0                               -1.0   \n",
       "3                -1.0               -1.0                                1.0   \n",
       "4                -1.0                0.5                                0.5   \n",
       "\n",
       "   Fascism          Country                              Date  \\\n",
       "0      2.0          Germany  After WWI (\"humiliating defeat\")   \n",
       "1      2.0            Italy   After WWI (\"mutilated victory\")   \n",
       "2      2.0  Austria-Hungary  After WWI (\"humiliating defeat\")   \n",
       "3      0.0           France                         After WWI   \n",
       "4      1.0            Spain                         After WWI   \n",
       "\n",
       "                                             Comment  \n",
       "0                      Nazism / Treaty of Versailles  \n",
       "1                     Fascism / Treaty of Versailles  \n",
       "2                      Nazism / Treaty of Versailles  \n",
       "3                                                NaN  \n",
       "4  Francoism / Authoritarianism / Loss of Spanish...  "
      ]
     },
     "execution_count": 2,
     "metadata": {},
     "output_type": "execute_result"
    }
   ],
   "source": [
    "dataset = pd.read_csv(\"fascism_data.csv\", header=0, sep=\";\")\n",
    "dataset.columns = [column.replace('\\n',' ') for column in dataset.columns]\n",
    "dataset.columns = [re.sub('\\(.*?\\)','',column).strip() for column in dataset.columns]\n",
    "dataset.head()"
   ]
  },
  {
   "cell_type": "code",
   "execution_count": 3,
   "id": "f89c5818",
   "metadata": {},
   "outputs": [],
   "source": [
    "from sklearn.model_selection import train_test_split\n",
    "data = dataset.drop(['Fascism', 'Country', 'Date', 'Comment'], axis=1)\n",
    "labels = dataset.Fascism\n",
    "X_train, X_test, y_train, y_test = train_test_split(data.values, \n",
    "                                                    labels, \n",
    "                                                    random_state=0, \n",
    "                                                    test_size=0.15) "
   ]
  },
  {
   "cell_type": "code",
   "execution_count": 4,
   "id": "a15c4e08",
   "metadata": {},
   "outputs": [
    {
     "data": {
      "text/plain": [
       "Index(['Hostility Environment', 'Economic Crisis', 'Political Crisis',\n",
       "       'Political Violence', 'Humiliation Score',\n",
       "       'Stability Democratic Institutions'],\n",
       "      dtype='object')"
      ]
     },
     "execution_count": 4,
     "metadata": {},
     "output_type": "execute_result"
    }
   ],
   "source": [
    "features = data.columns\n",
    "features"
   ]
  },
  {
   "cell_type": "code",
   "execution_count": 5,
   "id": "37abb86b",
   "metadata": {},
   "outputs": [
    {
     "name": "stdout",
     "output_type": "stream",
     "text": [
      "Training set score: 1.000000\n",
      "Test set score: 1.000000\n"
     ]
    }
   ],
   "source": [
    "model = MLPClassifier(hidden_layer_sizes=(100, ), \n",
    "                    max_iter=480, \n",
    "                    alpha=1e-4,\n",
    "                    solver='sgd', \n",
    "                    tol=1e-4, \n",
    "                    random_state=1,\n",
    "                    learning_rate_init=.1)\n",
    "\n",
    "model.fit(X_train, y_train)\n",
    "print(\"Training set score: %f\" % model.score(X_train, y_train))\n",
    "print(\"Test set score: %f\" % model.score(X_test, y_test))"
   ]
  },
  {
   "cell_type": "code",
   "execution_count": 6,
   "id": "349bf13e",
   "metadata": {},
   "outputs": [
    {
     "name": "stdout",
     "output_type": "stream",
     "text": [
      "Germany:  [ 0.6  1.   1.   1.   1.  -1. ] => [2.]\n",
      "Spain:  [ 0.3  1.  -1.  -1.   0.5  0.5] => [1.]\n",
      "UK:  [-1.  1. -1. -1. -1.  1.] => [0.]\n"
     ]
    }
   ],
   "source": [
    "germany = data.values[0]\n",
    "print(\"Germany: \", germany, '=>', model.predict([germany]))\n",
    "\n",
    "spain = data.values[4]\n",
    "print(\"Spain: \", spain, '=>', model.predict([spain]))\n",
    "\n",
    "uk = data.values[5]\n",
    "print(\"UK: \", uk, '=>', model.predict([uk]))"
   ]
  },
  {
   "cell_type": "code",
   "execution_count": 7,
   "id": "cdaa17a5",
   "metadata": {},
   "outputs": [
    {
     "data": {
      "application/vnd.jupyter.widget-view+json": {
       "model_id": "444efc3ec66445788ee424483c73cac8",
       "version_major": 2,
       "version_minor": 0
      },
      "text/plain": [
       "  0%|          | 0/5 [00:00<?, ?it/s]"
      ]
     },
     "metadata": {},
     "output_type": "display_data"
    },
    {
     "data": {
      "text/plain": [
       "5"
      ]
     },
     "execution_count": 7,
     "metadata": {},
     "output_type": "execute_result"
    }
   ],
   "source": [
    "explainer = shap.KernelExplainer(model.predict, X_train)\n",
    "shap_values = explainer.shap_values(X_test, nsamples=30)\n",
    "len(shap_values)"
   ]
  },
  {
   "cell_type": "code",
   "execution_count": 8,
   "id": "8fdf9b8b",
   "metadata": {},
   "outputs": [
    {
     "data": {
      "image/png": "[encoded data removed]",
      "text/plain": [
       "<Figure size 576x324 with 3 Axes>"
      ]
     },
     "metadata": {},
     "output_type": "display_data"
    }
   ],
   "source": [
    "i = 1\n",
    "shap_object = shap.Explanation(base_values = shap_values[i][0],\n",
    "  values = shap_values[i],\n",
    "  feature_names = features,\n",
    "  data = shap_values[i].data)\n",
    "\n",
    "shap.plots.waterfall(shap_object)"
   ]
  },
  {
   "cell_type": "code",
   "execution_count": 9,
   "id": "e9e984fb",
   "metadata": {},
   "outputs": [
    {
     "data": {
      "image/png": "[encoded data removed]",
      "text/plain": [
       "<Figure size 576x280.8 with 2 Axes>"
      ]
     },
     "metadata": {
      "needs_background": "light"
     },
     "output_type": "display_data"
    }
   ],
   "source": [
    "import matplotlib.pyplot as plt\n",
    "shap.summary_plot(shap_values,X_test,feature_names=features, show=False)\n",
    "plt.savefig('shap_values.png', format='png', dpi=600, bbox_inches='tight')\n",
    "plt.show()"
   ]
  },
  {
   "cell_type": "code",
   "execution_count": 10,
   "id": "f5f231ff",
   "metadata": {},
   "outputs": [
    {
     "name": "stdout",
     "output_type": "stream",
     "text": [
      "US:  [1.]\n"
     ]
    }
   ],
   "source": [
    "us_trump = [0.0, -0.5, 1.0, -0.5, 0.1, 0.2]\n",
    "print(\"US: \", model.predict([us_trump]))"
   ]
  },
  {
   "cell_type": "code",
   "execution_count": null,
   "id": "ae44e835",
   "metadata": {},
   "outputs": [],
   "source": []
  }
 ],
 "metadata": {
  "kernelspec": {
   "display_name": "sklearn-env",
   "language": "python",
   "name": "sklearn-env"
  },
  "language_info": {
   "codemirror_mode": {
    "name": "ipython",
    "version": 3
   },
   "file_extension": ".py",
   "mimetype": "text/x-python",
   "name": "python",
   "nbconvert_exporter": "python",
   "pygments_lexer": "ipython3",
   "version": "3.10.5"
  }
 },
 "nbformat": 4,
 "nbformat_minor": 5
}
